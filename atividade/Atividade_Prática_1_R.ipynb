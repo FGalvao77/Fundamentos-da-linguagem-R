{
  "nbformat": 4,
  "nbformat_minor": 0,
  "metadata": {
    "colab": {
      "name": "Atividade Prática 1_R.ipynb",
      "provenance": [],
      "collapsed_sections": []
    },
    "kernelspec": {
      "name": "ir",
      "display_name": "R"
    }
  },
  "cells": [
    {
      "cell_type": "markdown",
      "metadata": {
        "id": "Z2Kl9pfj0JKM"
      },
      "source": [
        "# Seja ensinável e execute as tarefas compartilhadas. Por fins didáticos e para melhor separação mental das sintaxes Python/R, realizaremos todos os exercícios de Python em R.\n",
        "![alt text](https://media.giphy.com/media/d3mlE7uhX8KFgEmY/200.gif)"
      ]
    },
    {
      "cell_type": "markdown",
      "metadata": {
        "id": "j9ZuOU7Kyh9O"
      },
      "source": [
        "Crie um algoritmo em R que mostre a mensagem \"Alo mundo\" na tela."
      ]
    },
    {
      "cell_type": "code",
      "metadata": {
        "id": "tlFupLd-ydTB",
        "colab": {
          "base_uri": "https://localhost:8080/",
          "height": 34
        },
        "outputId": "8f61b6b6-e7f9-44d3-9c21-9cc133faa4c7"
      },
      "source": [
        "# INSIRA SEU CÓDIGO AQUI\n",
        "msg <- 'Hello, World!'\n",
        "msg"
      ],
      "execution_count": 18,
      "outputs": [
        {
          "output_type": "display_data",
          "data": {
            "text/plain": [
              "[1] \"Hello, World!\""
            ],
            "text/latex": "'Hello, World!'",
            "text/markdown": "'Hello, World!'",
            "text/html": [
              "'Hello, World!'"
            ]
          },
          "metadata": {
            "tags": []
          }
        }
      ]
    },
    {
      "cell_type": "markdown",
      "metadata": {
        "id": "yhw2owA-zbrn"
      },
      "source": [
        "Crie um algoritmo em R que peça dois números e imprima a soma."
      ]
    },
    {
      "cell_type": "code",
      "metadata": {
        "id": "RJJtXkvV0qzj",
        "colab": {
          "base_uri": "https://localhost:8080/",
          "height": 85
        },
        "outputId": "e2a41476-a61d-4291-d236-e63ad4a2b2c2"
      },
      "source": [
        "# INSIRA SEU CÓDIGO AQUI\n",
        "a <- as.numeric(readline('Digite o primeiro número: '))\n",
        "b <- as.numeric(readline('Digite o segundo número: '))\n",
        "\n",
        "soma <- c(a + b)\n",
        "soma\n",
        "\n",
        "# de modo simplificado, imprimindo o resultado\n",
        "print(paste(c(a + b)))"
      ],
      "execution_count": 25,
      "outputs": [
        {
          "output_type": "stream",
          "text": [
            "Digite o primeiro número: 7.5\n",
            "Digite o segundo número: 3.8\n"
          ],
          "name": "stdout"
        },
        {
          "output_type": "display_data",
          "data": {
            "text/plain": [
              "[1] 11.3"
            ],
            "text/latex": "11.3",
            "text/markdown": "11.3",
            "text/html": [
              "11.3"
            ]
          },
          "metadata": {
            "tags": []
          }
        },
        {
          "output_type": "stream",
          "text": [
            "[1] \"11.3\"\n"
          ],
          "name": "stdout"
        }
      ]
    },
    {
      "cell_type": "code",
      "metadata": {
        "colab": {
          "base_uri": "https://localhost:8080/"
        },
        "id": "lDUDnKYbbrQL",
        "outputId": "114453b6-c655-4ab9-e45e-314cb484a7a3"
      },
      "source": [
        "# outra solução\n",
        "num_1 <- as.numeric(readline('Digite o primiero número: '))\n",
        "num_2 <- as.numeric(readline('Digite o segundo número: '))\n",
        "\n",
        "print(paste('Para a soma dos números', num_1, 'e', num_2, 'o resultado é:', sum(num_1 + num_2)))"
      ],
      "execution_count": 30,
      "outputs": [
        {
          "output_type": "stream",
          "text": [
            "Digite o primiero número: 5\n",
            "Digite o segundo número: 3\n",
            "[1] \"Para a soma dos números 5 e 3 , o resultado é: 8\"\n"
          ],
          "name": "stdout"
        }
      ]
    },
    {
      "cell_type": "markdown",
      "metadata": {
        "id": "35RwPIIF0w3i"
      },
      "source": [
        "Crie um algoritmo em R que peça um número e então mostre a mensagem O número informado foi [número]."
      ]
    },
    {
      "cell_type": "code",
      "metadata": {
        "id": "NEFu-8L808HB",
        "colab": {
          "base_uri": "https://localhost:8080/"
        },
        "outputId": "d7512cd3-503a-4f44-b0af-678fc39cf099"
      },
      "source": [
        "# INSIRA SEU CÓDIGO AQUI\n",
        "x <- as.numeric(readline('Digite um número: '))\n",
        "print(paste('O número digitado é:', x))"
      ],
      "execution_count": 7,
      "outputs": [
        {
          "output_type": "stream",
          "text": [
            "Digite um número: 15\n",
            "[1] \"O número digitado:  15\"\n"
          ],
          "name": "stdout"
        }
      ]
    },
    {
      "cell_type": "markdown",
      "metadata": {
        "id": "_OGQmoYA08bI"
      },
      "source": [
        "Crie um algoritmo em R que converta metros para centímetros."
      ]
    },
    {
      "cell_type": "code",
      "metadata": {
        "id": "xxgmQ5j21Abx",
        "colab": {
          "base_uri": "https://localhost:8080/"
        },
        "outputId": "66fbd984-30b9-43e0-eef6-5ee8b58f6d25"
      },
      "source": [
        "# INSIRA SEU CÓDIGO AQUI\n",
        "metro <- as.numeric(readline('Digite o valor em metros: '))\n",
        "print(paste('O valor de', metro, 'metro(s) em centímetros é', c(metros * 100)))"
      ],
      "execution_count": 17,
      "outputs": [
        {
          "output_type": "stream",
          "text": [
            "Digite o valor em metros: 0.99\n",
            "[1] \"O valor de 0.99 metro(s) em centímetros é 100\"\n"
          ],
          "name": "stdout"
        }
      ]
    },
    {
      "cell_type": "markdown",
      "metadata": {
        "id": "kP9TOwKo1AnS"
      },
      "source": [
        "Crie um algoritmo em Python que peça as 4 notas bimestrais e mostre a média."
      ]
    },
    {
      "cell_type": "code",
      "metadata": {
        "id": "Tj5xsjC-1D5I",
        "colab": {
          "base_uri": "https://localhost:8080/",
          "height": 119
        },
        "outputId": "da7eae87-86cc-4db4-b17a-a7bf9bf1f2f6"
      },
      "source": [
        "# INSIRA SEU CÓDIGO AQUI\n",
        "nota_1 <- as.numeric(readline('Digite a primeira nota: '))\n",
        "nota_2 <- as.numeric(readline('Digite a segunda nota: '))\n",
        "nota_3 <- as.numeric(readline('Digite a terceira nota: '))\n",
        "nota_4 <- as.numeric(readline('Digite a quarta nota: '))\n",
        "\n",
        "paste(c(nota_1 + nota_2 + nota_3 + nota_4) / 4)\n",
        "\n",
        "media <- paste(c(nota_1 + nota_2 + nota_3 + nota_4) / 4)\n",
        "paste('Média de:', media)"
      ],
      "execution_count": 40,
      "outputs": [
        {
          "output_type": "stream",
          "text": [
            "Digite a primeira nota: 5\n",
            "Digite a segunda nota: 6\n",
            "Digite a terceira nota: 4\n",
            "Digite a quarta nota: 5\n"
          ],
          "name": "stdout"
        },
        {
          "output_type": "display_data",
          "data": {
            "text/plain": [
              "[1] \"5\""
            ],
            "text/latex": "'5'",
            "text/markdown": "'5'",
            "text/html": [
              "'5'"
            ]
          },
          "metadata": {
            "tags": []
          }
        },
        {
          "output_type": "display_data",
          "data": {
            "text/plain": [
              "[1] \"Média: 5\""
            ],
            "text/latex": "'Média: 5'",
            "text/markdown": "'Média: 5'",
            "text/html": [
              "'Média: 5'"
            ]
          },
          "metadata": {
            "tags": []
          }
        }
      ]
    },
    {
      "cell_type": "markdown",
      "metadata": {
        "id": "6vgD9pl81EGd"
      },
      "source": [
        "Crie um algoritmo em R que peça o raio de um círculo, calcule e mostre sua área."
      ]
    },
    {
      "cell_type": "code",
      "metadata": {
        "id": "3h1VOEuR1KGz",
        "colab": {
          "base_uri": "https://localhost:8080/",
          "height": 51
        },
        "outputId": "a41a4765-33b7-466e-aa81-e56b0942b9cb"
      },
      "source": [
        "# INSIRA SEU CÓDIGO AQUI\n",
        "PI <- 3.1415\n",
        "\n",
        "raio_circulo <- as.numeric(readline('Digite o raio do círculo (cm): '))\n",
        "area <- round(PI * (raio_circulo ** 2), 2)\n",
        "paste('Para raio de', raio_circulo, 'cm, área do círculo é', area, 'cm²')"
      ],
      "execution_count": 62,
      "outputs": [
        {
          "output_type": "stream",
          "text": [
            "Digite o raio do círculo (cm): 10.15\n"
          ],
          "name": "stdout"
        },
        {
          "output_type": "display_data",
          "data": {
            "text/plain": [
              "[1] \"Para raio de 10.15 cm, área do círculo é 323.65 cm²\""
            ],
            "text/latex": "'Para raio de 10.15 cm, área do círculo é 323.65 cm²'",
            "text/markdown": "'Para raio de 10.15 cm, área do círculo é 323.65 cm²'",
            "text/html": [
              "'Para raio de 10.15 cm, área do círculo é 323.65 cm²'"
            ]
          },
          "metadata": {
            "tags": []
          }
        }
      ]
    },
    {
      "cell_type": "markdown",
      "metadata": {
        "id": "QXhvPnMQ1Kd6"
      },
      "source": [
        "Crie um algoritmo em R que calcule a área de um quadrado, em seguida mostre o dobro desta área para o usuário."
      ]
    },
    {
      "cell_type": "code",
      "metadata": {
        "id": "ywZkuhmt1N7l",
        "colab": {
          "base_uri": "https://localhost:8080/",
          "height": 68
        },
        "outputId": "fab8e11e-2303-49e7-ce08-4dd89ced75f3"
      },
      "source": [
        "# INSIRA SEU CÓDIGO AQUI\n",
        "\n",
        "base <- as.numeric(readline('Digite a base (cm): '))\n",
        "altura <- as.numeric(readline('Digite a altura (cm): '))\n",
        "\n",
        "area_quad <- round(base * altura, 2)\n",
        "paste('Área do quadrado:', area_quad, 'cm², o seu dobro é:', c(area_quad * 2), 'cm²')"
      ],
      "execution_count": 68,
      "outputs": [
        {
          "output_type": "stream",
          "text": [
            "Digite a base (cm): 12.12\n",
            "Digite a altura (cm): 12.12\n"
          ],
          "name": "stdout"
        },
        {
          "output_type": "display_data",
          "data": {
            "text/plain": [
              "[1] \"Área do quadrado: 146.89 cm², o seu dobro é: 293.78 cm²\""
            ],
            "text/latex": "'Área do quadrado: 146.89 cm², o seu dobro é: 293.78 cm²'",
            "text/markdown": "'Área do quadrado: 146.89 cm², o seu dobro é: 293.78 cm²'",
            "text/html": [
              "'Área do quadrado: 146.89 cm², o seu dobro é: 293.78 cm²'"
            ]
          },
          "metadata": {
            "tags": []
          }
        }
      ]
    },
    {
      "cell_type": "markdown",
      "metadata": {
        "id": "F-rpjggB1T5G"
      },
      "source": [
        "Crie um algoritmo em R que pergunte quanto você ganha por hora e o número de horas trabalhadas no mês. Calcule e mostre o total do seu salário no referido mês.\n"
      ]
    },
    {
      "cell_type": "code",
      "metadata": {
        "id": "nvMchfOZ2_vC",
        "colab": {
          "base_uri": "https://localhost:8080/",
          "height": 68
        },
        "outputId": "058a947d-c3af-40fe-8771-c6c3e330e826"
      },
      "source": [
        "# INSIRA SEU CÓDIGO AQUI\n",
        "valor_hora <- as.numeric(readline('Digite o valor da hora R$: '))\n",
        "hora_trabalhadas_mes <- as.numeric(readline('Digite a quantidade de horas trabalhadas no mês:  '))\n",
        "\n",
        "valor_receber <- round(valor_hora * hora_trabalhadas_mes, 2)\n",
        "paste('Salário do mês é R$ ', valor_receber)"
      ],
      "execution_count": 76,
      "outputs": [
        {
          "output_type": "stream",
          "text": [
            "Digite o valor da hora R$: 15.789\n",
            "Digite a quantidade de horas trabalhadas no mês:  220\n"
          ],
          "name": "stdout"
        },
        {
          "output_type": "display_data",
          "data": {
            "text/plain": [
              "[1] \"Salário do mês é R$  3473.58\""
            ],
            "text/latex": "'Salário do mês é R\\$  3473.58'",
            "text/markdown": "<span style=white-space:pre-wrap>'Salário do mês é R$  3473.58'</span>",
            "text/html": [
              "<span style=white-space:pre-wrap>'Salário do mês é R$  3473.58'</span>"
            ]
          },
          "metadata": {
            "tags": []
          }
        }
      ]
    },
    {
      "cell_type": "markdown",
      "metadata": {
        "id": "C-H4OWh03DFn"
      },
      "source": [
        "Crie um algoritmo em R que peça a temperatura em graus Farenheit, transforme e mostre a temperatura em graus Celsius.\n",
        "\n",
        "    C = (5 * (F-32) / 9)."
      ]
    },
    {
      "cell_type": "markdown",
      "metadata": {
        "id": "zlffhGFoaI6M"
      },
      "source": [
        "    C = (°F − 32) x 5 / 9\n",
        "    F = (°C x 9) / 5 + 32"
      ]
    },
    {
      "cell_type": "code",
      "metadata": {
        "id": "vs5qFAKx3Eyi",
        "colab": {
          "base_uri": "https://localhost:8080/",
          "height": 51
        },
        "outputId": "be0a3ef3-64e5-4dd4-a151-f5967c9c8b78"
      },
      "source": [
        "# INSIRA SEU CÓDIGO AQUI\n",
        "temp_F <- as.numeric(readline('Digite a temperatura (°F): '))\n",
        "temp_C <- round((temp_F - 32) * 5 / 9, 2)\n",
        "paste('A temperatura de', temp_F, '°F é igual a', temp_C, '°C')"
      ],
      "execution_count": 86,
      "outputs": [
        {
          "output_type": "stream",
          "text": [
            "Digite a temperatura (°F): 93\n"
          ],
          "name": "stdout"
        },
        {
          "output_type": "display_data",
          "data": {
            "text/plain": [
              "[1] \"A temperatura de 93 °F é igual a 33.89 °C\""
            ],
            "text/latex": "'A temperatura de 93 °F é igual a 33.89 °C'",
            "text/markdown": "'A temperatura de 93 °F é igual a 33.89 °C'",
            "text/html": [
              "'A temperatura de 93 °F é igual a 33.89 °C'"
            ]
          },
          "metadata": {
            "tags": []
          }
        }
      ]
    },
    {
      "cell_type": "markdown",
      "metadata": {
        "id": "PGccudSo3E54"
      },
      "source": [
        "Crie um algoritmo em R que peça a temperatura em graus Celsius, transforme e mostre em graus Farenheit.\n",
        "\n",
        "  \n"
      ]
    },
    {
      "cell_type": "code",
      "metadata": {
        "id": "_zfLyopV3IqV",
        "colab": {
          "base_uri": "https://localhost:8080/",
          "height": 51
        },
        "outputId": "78e74cc4-bf04-49e2-bf9e-c6044235dd49"
      },
      "source": [
        "# INSIRA SEU CÓDIGO AQUI\n",
        "temp_C <- as.numeric(readline('Digite a temperatura (°C): '))\n",
        "temp_F <- round((temp_C * 9) / 5 + 32, 2)\n",
        "paste('A temperatura de', temp_C, '°C é igual a', temp_F, '°C')"
      ],
      "execution_count": 88,
      "outputs": [
        {
          "output_type": "stream",
          "text": [
            "Digite a temperatura (°C): 33.89\n"
          ],
          "name": "stdout"
        },
        {
          "output_type": "display_data",
          "data": {
            "text/plain": [
              "[1] \"A temperatura de 33.89 °C é igual a 93 °C\""
            ],
            "text/latex": "'A temperatura de 33.89 °C é igual a 93 °C'",
            "text/markdown": "'A temperatura de 33.89 °C é igual a 93 °C'",
            "text/html": [
              "'A temperatura de 33.89 °C é igual a 93 °C'"
            ]
          },
          "metadata": {
            "tags": []
          }
        }
      ]
    },
    {
      "cell_type": "markdown",
      "metadata": {
        "id": "bu3Zyati3Iwc"
      },
      "source": [
        "Crie um algoritmo em R que peça 2 números inteiros e um número real. Calcule e mostre:\n",
        "* a soma do dobro do primeiro com metade do segundo .\n",
        "* a soma do triplo do primeiro com o terceiro.\n",
        "* o terceiro elevado ao cubo."
      ]
    },
    {
      "cell_type": "code",
      "metadata": {
        "id": "Peo4D5Sz3PDC",
        "colab": {
          "base_uri": "https://localhost:8080/",
          "height": 119
        },
        "outputId": "17123bb5-30b6-4552-d218-847a540e31ab"
      },
      "source": [
        "# INSIRA SEU CÓDIGO AQUI\n",
        "num_int_1 <- as.integer(readline('Digite o primeiro número inteiro: '))\n",
        "num_int_2 <- as.integer(readline('Digite o segundo número inteiro: '))\n",
        "num_real <- as.numeric(readline('Digite o número real: '))\n",
        "\n",
        "resp_1 <- (num_int_1 * 2) + (num_int_2 / 2)\n",
        "resp_2 <- (num_int_1 * 3) + num_real\n",
        "resp_3 <- num_real ** 3\n",
        "\n",
        "paste('A soma do dobro do primeiro número com a metade do segundo é:', resp_1)\n",
        "paste('A soma do triplo do primeiro número com o terceiro é:', resp_2)\n",
        "paste('O terceiro número elevado ao cubo é:', resp_3)"
      ],
      "execution_count": 93,
      "outputs": [
        {
          "output_type": "stream",
          "text": [
            "Digite o primeiro número inteiro: 6\n",
            "Digite o segundo número inteiro: 8\n",
            "Digite o número real: 1.5\n"
          ],
          "name": "stdout"
        },
        {
          "output_type": "display_data",
          "data": {
            "text/plain": [
              "[1] \"A soma do dobro do primeiro número com a metade do segundo é: 16\""
            ],
            "text/latex": "'A soma do dobro do primeiro número com a metade do segundo é: 16'",
            "text/markdown": "'A soma do dobro do primeiro número com a metade do segundo é: 16'",
            "text/html": [
              "'A soma do dobro do primeiro número com a metade do segundo é: 16'"
            ]
          },
          "metadata": {
            "tags": []
          }
        },
        {
          "output_type": "display_data",
          "data": {
            "text/plain": [
              "[1] \"A soma do triplo do primeiro número com o terceiro é: 19.5\""
            ],
            "text/latex": "'A soma do triplo do primeiro número com o terceiro é: 19.5'",
            "text/markdown": "'A soma do triplo do primeiro número com o terceiro é: 19.5'",
            "text/html": [
              "'A soma do triplo do primeiro número com o terceiro é: 19.5'"
            ]
          },
          "metadata": {
            "tags": []
          }
        },
        {
          "output_type": "display_data",
          "data": {
            "text/plain": [
              "[1] \"O terceiro número elevado ao cubo é: 3.375\""
            ],
            "text/latex": "'O terceiro número elevado ao cubo é: 3.375'",
            "text/markdown": "'O terceiro número elevado ao cubo é: 3.375'",
            "text/html": [
              "'O terceiro número elevado ao cubo é: 3.375'"
            ]
          },
          "metadata": {
            "tags": []
          }
        }
      ]
    }
  ]
}